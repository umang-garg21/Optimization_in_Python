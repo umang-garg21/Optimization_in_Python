{
 "cells": [
  {
   "cell_type": "markdown",
   "metadata": {
    "tags": []
   },
   "source": [
    "### Prob 1: Linear Placement Version 0\n",
    "\n",
    "We have a set of equal size boxes that are to be placed on in a linear arrangement. There is a set of nets connecting pairs of boxes. The length of a net is the difference in position between the positions assigned to its boxes. Find an order to the boxes (placement) that minimizes the sum of the net lengths. Plot the net layout for the solution as verification.\n",
    "\n",
    "Debug and run this problem first with the following:"
   ]
  },
  {
   "cell_type": "code",
   "execution_count": 87,
   "metadata": {
    "tags": []
   },
   "outputs": [],
   "source": [
    "N = 6 #number of boxes\n",
    "M = 7 #number of nets\n",
    "net = {1: (1,2), 2: (1,4), 3: (2, 3), 4: (2, 5), 5: (2, 6), 6: (3,6), 7: (4, 5)}"
   ]
  },
  {
   "cell_type": "markdown",
   "metadata": {
    "jp-MarkdownHeadingCollapsed": true,
    "tags": []
   },
   "source": [
    "## Describe the problem\n",
    "\n",
    "* We wish to put $N$ boxes into a linear row of positions, any box may go to any position\n",
    "\n",
    "* We want to find an arrangement of boxes such that:\n",
    "    * each position contains exactly one box,\n",
    "    * the nets associated with each box stretch across the placement\n",
    "    * the total distance length of all nets is minimal."
   ]
  },
  {
   "cell_type": "markdown",
   "metadata": {},
   "source": [
    "## Use decision optimization"
   ]
  },
  {
   "cell_type": "markdown",
   "metadata": {},
   "source": [
    "### Step 1: Import the library\n",
    "\n",
    "Run the following code to import the Decision Optimization CPLEX Modeling library.  The *DOcplex* library contains the two modeling packages, Mathematical Programming and Constraint Programming, referred to earlier."
   ]
  },
  {
   "cell_type": "code",
   "execution_count": 1,
   "metadata": {
    "tags": []
   },
   "outputs": [],
   "source": [
    "import sys\n",
    "try:\n",
    "    import docplex.mp\n",
    "except:\n",
    "    raise Exception('Please install docplex. See https://pypi.org/project/docplex/')      "
   ]
  },
  {
   "cell_type": "markdown",
   "metadata": {
    "tags": []
   },
   "source": [
    "If *CPLEX* is not installed, please install CPLEX Community edition."
   ]
  },
  {
   "cell_type": "code",
   "execution_count": 2,
   "metadata": {
    "tags": []
   },
   "outputs": [],
   "source": [
    "try:\n",
    "    import cplex\n",
    "except:\n",
    "    raise Exception('Please install CPLEX. See https://pypi.org/project/cplex/')"
   ]
  },
  {
   "cell_type": "markdown",
   "metadata": {
    "tags": []
   },
   "source": [
    "### Step 2: Model the data\n",
    "\n",
    "The input data is the number of objects _N_, and their positions in the (x,y) plane, and the positions of the boxes.\n",
    "\n",
    "### Step 3: Prepare the data\n",
    "\n",
    "We use Euclidean squared distance to compute the distance between an object and its assigned box. (Since the square function in monotonic, optimizing the square distance is the same as optimizing the actual Euclidian distance (i.e. comparison results will be identical).\n",
    "\n"
   ]
  },
  {
   "cell_type": "code",
   "execution_count": 30,
   "metadata": {
    "tags": []
   },
   "outputs": [],
   "source": [
    "N = 6\n",
    "box_ids = range(1, N+1)\n",
    "pos_ids = range(1, N+1)\n",
    "\n",
    "M = 7\n",
    "net_ids = range(1, M+1)\n",
    "net = {1: (1,2), 2: (1,4), 3: (2, 3), 4: (2, 5), 5: (2, 6), 6: (3,6), 7: (4, 5)}"
   ]
  },
  {
   "cell_type": "markdown",
   "metadata": {},
   "source": [
    "### Step 4: Set up the prescriptive model"
   ]
  },
  {
   "cell_type": "markdown",
   "metadata": {},
   "source": [
    "This is a good idea to make sure your environment is setup correctly. Your current CPLEX version is 20.1.0.0"
   ]
  },
  {
   "cell_type": "code",
   "execution_count": 31,
   "metadata": {
    "tags": []
   },
   "outputs": [
    {
     "name": "stdout",
     "output_type": "stream",
     "text": [
      "* system is: Linux 64bit\n",
      "* Python version 3.8.13, located at: /home/forrest/anaconda3/envs/ece194/bin/python\n",
      "* docplex is present, version is 2.23.222\n",
      "* CPLEX library is present, version is 20.1.0.0, located at: /home/forrest/anaconda3/envs/ece194/lib/python3.8/site-packages/cplex-20.1.0.0-py3.8.egg\n",
      "* pandas is present, version is 1.4.1\n"
     ]
    }
   ],
   "source": [
    "from docplex.mp.environment import Environment\n",
    "env = Environment()\n",
    "env.print_information()"
   ]
  },
  {
   "cell_type": "markdown",
   "metadata": {
    "tags": []
   },
   "source": [
    "#### Create the DOcplex model\n",
    "The model contains all the business constraints and defines the objective."
   ]
  },
  {
   "cell_type": "code",
   "execution_count": 32,
   "metadata": {
    "tags": []
   },
   "outputs": [],
   "source": [
    "from docplex.mp.model import Model\n",
    "\n",
    "mdl = Model(name=\"linear_placement0\")"
   ]
  },
  {
   "cell_type": "markdown",
   "metadata": {
    "tags": []
   },
   "source": [
    "#### Define the decision variables\n",
    "\n",
    "* For each box $i$ ($i$ in $0..N-1$) and pos $j$ ($j$ in $0..N-1$), we define a binary variable $X_{i,j}$ equal to $1$ if and only if pos $j$ is location of box $i$.\n",
    "\n",
    "Note that the $name$ parameter is actually a function, this function takes a key pair $ij$ and coins a new name for each corresponding variable. The $name$ parameter also accepts a string prefix, in which case, Docplex will generate names by  concatenating the prefix with the string representation of keys. Using elaborated calls create the dictionary as a batch and is faster than creating the variables one-by-one."
   ]
  },
  {
   "cell_type": "code",
   "execution_count": 33,
   "metadata": {
    "tags": []
   },
   "outputs": [],
   "source": [
    "# decision variables is a 1d-matrix\n",
    "x = mdl.integer_var_dict(box_ids, lb=1, ub=N, name=lambda i: \"x_%d\" %(i))"
   ]
  },
  {
   "cell_type": "markdown",
   "metadata": {
    "tags": []
   },
   "source": [
    "#### Express the business constraints\n",
    "\n",
    "* $X_{i}$ must contain a unique element from positions. This takes N(N-1)/2 constraints.\n",
    "Printing the model information is a simple way to debug incorrect constraint or model generation. "
   ]
  },
  {
   "cell_type": "code",
   "execution_count": 34,
   "metadata": {
    "tags": []
   },
   "outputs": [
    {
     "name": "stdout",
     "output_type": "stream",
     "text": [
      "Model: linear_placement0\n",
      " - number of variables: 21\n",
      "   - binary=15, integer=6, continuous=0\n",
      " - number of constraints: 30\n",
      "   - linear=15, equiv=15\n",
      " - parameters: defaults\n",
      " - objective: none\n",
      " - problem type is: MILP\n"
     ]
    }
   ],
   "source": [
    "# Pos ids unique\n",
    "for i in box_ids:\n",
    "    for j in range(i+1,N+1):\n",
    "        mdl.add_constraint(x[i]!=x[j])\n",
    "    \n",
    "mdl.print_information()"
   ]
  },
  {
   "cell_type": "markdown",
   "metadata": {
    "tags": []
   },
   "source": [
    "#### Express the objective\n",
    "\n",
    "* The objective is to minimize the total distance between each object and its storage box. Note the use of the built-in dotf() method. It takes a dictionary, and a scalar function to create a dot-poduct. Note that it does not matter how nested the data is -- i.e. linear array or multiple dimension as long as the function is valid over the dictionary keys. Here, the distances are pulled from the distance array based on _x[i,j]_ == 1"
   ]
  },
  {
   "cell_type": "code",
   "execution_count": 35,
   "metadata": {
    "tags": []
   },
   "outputs": [],
   "source": [
    "# minimize total displacement\n",
    "mdl.minimize(mdl.sum(mdl.abs(x[net[j][0]]-x[net[j][1]]) for j in net_ids))"
   ]
  },
  {
   "cell_type": "markdown",
   "metadata": {
    "tags": []
   },
   "source": [
    "#### Solve the model\n"
   ]
  },
  {
   "cell_type": "code",
   "execution_count": 36,
   "metadata": {
    "scrolled": true,
    "tags": []
   },
   "outputs": [
    {
     "name": "stdout",
     "output_type": "stream",
     "text": [
      "Model: linear_placement0\n",
      " - number of variables: 49\n",
      "   - binary=15, integer=6, continuous=28\n",
      " - number of constraints: 51\n",
      "   - linear=36, equiv=15\n",
      " - parameters: defaults\n",
      " - objective: minimize\n",
      " - problem type is: MILP\n",
      "Version identifier: 20.1.0.0 | 2020-11-10 | 9bedb6d68\n",
      "CPXPARAM_Read_DataCheck                          1\n",
      "Tried aggregator 2 times.\n",
      "MIP Presolve eliminated 29 rows and 29 columns.\n",
      "Aggregator did 15 substitutions.\n",
      "Reduced MIP has 52 rows, 50 columns, and 133 nonzeros.\n",
      "Reduced MIP has 15 binaries, 6 generals, 7 SOSs, and 0 indicators.\n",
      "Presolve time = 0.00 sec. (0.11 ticks)\n",
      "Probing time = 0.00 sec. (0.06 ticks)\n",
      "Tried aggregator 2 times.\n",
      "Aggregator did 15 substitutions.\n",
      "Reduced MIP has 37 rows, 35 columns, and 118 nonzeros.\n",
      "Reduced MIP has 15 binaries, 6 generals, 7 SOSs, and 0 indicators.\n",
      "Presolve time = 0.00 sec. (0.11 ticks)\n",
      "Probing time = 0.00 sec. (0.02 ticks)\n",
      "Tried aggregator 1 time.\n",
      "Detecting symmetries...\n",
      "Reduced MIP has 37 rows, 35 columns, and 118 nonzeros.\n",
      "Reduced MIP has 15 binaries, 6 generals, 7 SOSs, and 0 indicators.\n",
      "Presolve time = 0.00 sec. (0.08 ticks)\n",
      "Probing time = 0.00 sec. (0.02 ticks)\n",
      "MIP emphasis: balance optimality and feasibility.\n",
      "MIP search method: dynamic search.\n",
      "Parallel mode: deterministic, using up to 8 threads.\n",
      "Root relaxation solution time = 0.00 sec. (0.06 ticks)\n",
      "\n",
      "        Nodes                                         Cuts/\n",
      "   Node  Left     Objective  IInf  Best Integer    Best Bound    ItCnt     Gap\n",
      "\n",
      "      0     0        0.0000    15                      0.0000       15         \n",
      "      0     0        1.1333    22                    Cuts: 46       37         \n",
      "      0     0        4.2000    19                    Cuts: 19       54         \n",
      "      0     0        4.2000    19                 ZeroHalf: 5       56         \n",
      "      0     0        4.2000    19                 ZeroHalf: 4       58         \n",
      "*     0+    0                           14.0000        4.2000            70.00%\n",
      "*     0+    0                           10.0000        4.2000            58.00%\n",
      "      0     0        cutoff             10.0000       10.0000       58    0.00%\n",
      "Elapsed time = 0.06 sec. (2.50 ticks, tree = 0.01 MB, solutions = 2)\n",
      "\n",
      "Implied bound cuts applied:  1\n",
      "Zero-half cuts applied:  4\n",
      "Gomory fractional cuts applied:  13\n",
      "\n",
      "Root node processing (before b&c):\n",
      "  Real time             =    0.06 sec. (2.50 ticks)\n",
      "Parallel b&c, 8 threads:\n",
      "  Real time             =    0.00 sec. (0.00 ticks)\n",
      "  Sync time (average)   =    0.00 sec.\n",
      "  Wait time (average)   =    0.00 sec.\n",
      "                          ------------\n",
      "Total (root+branch&cut) =    0.06 sec. (2.50 ticks)\n"
     ]
    }
   ],
   "source": [
    "mdl.print_information()\n",
    "\n",
    "assert mdl.solve(log_output=True), \"!!! Solve of the model fails\""
   ]
  },
  {
   "cell_type": "code",
   "execution_count": 37,
   "metadata": {
    "tags": []
   },
   "outputs": [
    {
     "name": "stdout",
     "output_type": "stream",
     "text": [
      "* model linear_placement0 solved with objective = 10.000\n",
      "* solution: [2.0, 4.0, 6.0, 1.0, 3.0, 5.0]\n"
     ]
    }
   ],
   "source": [
    "mdl.report()\n",
    "d1 = mdl.objective_value\n",
    "#mdl.print_solution()\n",
    "\n",
    "def make_solution_vector(x_vars):\n",
    "    sol = [0]* N\n",
    "    for i in box_ids:\n",
    "        sol[i-1] = x[i].solution_value\n",
    "    return sol\n",
    "\n",
    "sol1 = make_solution_vector(x)\n",
    "print(\"* solution: {0!s}\".format(sol1))          "
   ]
  },
  {
   "cell_type": "markdown",
   "metadata": {
    "tags": []
   },
   "source": [
    "### Step 5: Investigate the solution and then run an example analysis\n",
    "\n",
    "Present the solution as a vector of object indices, sorted by box indices.\n",
    "We use maptplotlib to display the assignment of objects to boxes.\n"
   ]
  },
  {
   "cell_type": "code",
   "execution_count": 38,
   "metadata": {
    "tags": []
   },
   "outputs": [],
   "source": [
    "try:\n",
    "    import matplotlib.pyplot as plt\n",
    "    from pylab import rcParams\n",
    "    %matplotlib inline\n",
    "    rcParams['figure.figsize'] = 12, 6\n",
    "    \n",
    "    def display_solution(sol):\n",
    "        xs = []\n",
    "        ys = []\n",
    "        for j in net_ids:\n",
    "            b1 = net[j][0]\n",
    "            b2 = net[j][1]\n",
    "            box_x1 = sol[b1-1]\n",
    "            box_x2 = sol[b2-1]\n",
    "            box_y = j*1.0\n",
    "            plt.plot([box_x1, box_x2], [box_y, box_y])\n",
    "        for i in box_ids:\n",
    "            plt.text(sol[i-1]*1.0, M/2.0, str(i), bbox=dict(facecolor='red', alpha=0.5))            \n",
    "\n",
    "except ImportError:\n",
    "    print(\"matplotlib not found, nothing will be displayed\")\n",
    "    plt = None\n",
    "    def display_solution(sol):   pass\n"
   ]
  },
  {
   "cell_type": "markdown",
   "metadata": {
    "tags": []
   },
   "source": [
    "The first solution shows no segments crossing, which is to be expected."
   ]
  },
  {
   "cell_type": "code",
   "execution_count": 39,
   "metadata": {
    "tags": []
   },
   "outputs": [
    {
     "data": {
      "image/png": "[encoded data removed]",
      "text/plain": [
       "<Figure size 864x432 with 1 Axes>"
      ]
     },
     "metadata": {
      "needs_background": "light"
     },
     "output_type": "display_data"
    }
   ],
   "source": [
    "display_solution(sol1)"
   ]
  },
  {
   "cell_type": "markdown",
   "metadata": {
    "tags": []
   },
   "source": [
    "### Prob 2: Time scaling for Linear Placement 0\n",
    "\n",
    "#### a\n",
    "Measure the run time for your solution as N grows from 8,10,14,16,18,20 using randomly generated nets:\n",
    "1. Each box connects to 1..4 nets with roughly equal probability for each number of connections\n",
    "2. Net start and end points uniform over all boxes"
   ]
  },
  {
   "cell_type": "code",
   "execution_count": 40,
   "metadata": {
    "tags": []
   },
   "outputs": [],
   "source": [
    "import random as rnd\n",
    "rnd.seed()\n",
    "N = 12\n",
    "box_ids = range(N)\n",
    "net = {}\n",
    "net_idx = 1\n",
    "fill = [rnd.randint(1,4) for i in range(N)]\n",
    "for i in range(N-1):\n",
    "    while fill[i]>0 :\n",
    "        done = 0\n",
    "        trial = rnd.randint(i+1,N-1)\n",
    "        dir = (2*rnd.randint(0,1)-1)\n",
    "        for j in range(0,N-i-1):\n",
    "            ntrial = i+1+(trial-i-1+dir*j)%(N-i-1)\n",
    "            if fill[ntrial] > 0:\n",
    "                net[net_idx] = (i, ntrial)\n",
    "                fill[i] -= 1\n",
    "                fill[ntrial] -= 1\n",
    "                net_idx += 1\n",
    "                done = 1\n",
    "                break\n",
    "        if done == 0 :\n",
    "            break\n",
    "net_ids = range(1,net_idx)\n",
    "M = net_idx-1"
   ]
  },
  {
   "cell_type": "code",
   "execution_count": 41,
   "metadata": {
    "tags": []
   },
   "outputs": [],
   "source": [
    "from docplex.mp.model import Model\n",
    "\n",
    "mdl2 = Model(name=\"linear_placement0\")"
   ]
  },
  {
   "cell_type": "code",
   "execution_count": 42,
   "metadata": {
    "tags": []
   },
   "outputs": [],
   "source": [
    "# decision variables is a 1d-matrix\n",
    "x = mdl2.integer_var_dict(box_ids, lb=0, ub=N-1, name=lambda i: \"x_%d\" %(i))"
   ]
  },
  {
   "cell_type": "code",
   "execution_count": 43,
   "metadata": {},
   "outputs": [
    {
     "name": "stdout",
     "output_type": "stream",
     "text": [
      "Model: linear_placement0\n",
      " - number of variables: 78\n",
      "   - binary=66, integer=12, continuous=0\n",
      " - number of constraints: 132\n",
      "   - linear=66, equiv=66\n",
      " - parameters: defaults\n",
      " - objective: none\n",
      " - problem type is: MILP\n"
     ]
    }
   ],
   "source": [
    "# Pos ids unique\n",
    "for i in box_ids:\n",
    "    for j in range(i+1,N):\n",
    "        mdl2.add_constraint(x[i]!=x[j])\n",
    "    \n",
    "mdl2.print_information()"
   ]
  },
  {
   "cell_type": "code",
   "execution_count": 44,
   "metadata": {
    "tags": []
   },
   "outputs": [
    {
     "name": "stdout",
     "output_type": "stream",
     "text": [
      "Model: linear_placement0\n",
      " - number of variables: 134\n",
      "   - binary=66, integer=12, continuous=56\n",
      " - number of constraints: 174\n",
      "   - linear=108, equiv=66\n",
      " - parameters: defaults\n",
      " - objective: minimize\n",
      " - problem type is: MILP\n",
      "N=12 M=14\n"
     ]
    }
   ],
   "source": [
    "# minimize total displacement\n",
    "mdl2.minimize(mdl2.sum(mdl2.abs(x[net[j][0]]-x[net[j][1]]) for j in net_ids))\n",
    "\n",
    "mdl2.print_information()\n",
    "print('N='+str(N)+' M='+str(M))\n"
   ]
  },
  {
   "cell_type": "code",
   "execution_count": 45,
   "metadata": {
    "tags": []
   },
   "outputs": [
    {
     "name": "stdout",
     "output_type": "stream",
     "text": [
      "Version identifier: 20.1.0.0 | 2020-11-10 | 9bedb6d68\n",
      "CPXPARAM_Read_DataCheck                          1\n",
      "CPXPARAM_TimeLimit                               100\n",
      "Tried aggregator 2 times.\n",
      "MIP Presolve eliminated 94 rows and 94 columns.\n",
      "Aggregator did 66 substitutions.\n",
      "Reduced MIP has 212 rows, 172 columns, and 518 nonzeros.\n",
      "Reduced MIP has 66 binaries, 12 generals, 14 SOSs, and 132 indicators.\n",
      "Presolve time = 0.00 sec. (0.41 ticks)\n",
      "Probing time = 0.00 sec. (0.54 ticks)\n",
      "Tried aggregator 1 time.\n",
      "Detecting symmetries...\n",
      "Reduced MIP has 212 rows, 172 columns, and 518 nonzeros.\n",
      "Reduced MIP has 66 binaries, 78 generals, 14 SOSs, and 132 indicators.\n",
      "Presolve time = 0.00 sec. (0.38 ticks)\n",
      "Probing time = 0.00 sec. (0.52 ticks)\n",
      "MIP emphasis: balance optimality and feasibility.\n",
      "MIP search method: dynamic search.\n",
      "Parallel mode: deterministic, using up to 8 threads.\n",
      "Root relaxation solution time = 0.00 sec. (0.61 ticks)\n",
      "\n",
      "        Nodes                                         Cuts/\n",
      "   Node  Left     Objective  IInf  Best Integer    Best Bound    ItCnt     Gap\n",
      "\n",
      "      0     0        0.0000    66                      0.0000       66         \n",
      "      0     0        0.9848   113                   Cuts: 132      173         \n",
      "      0     0       10.0909    59                   Cuts: 103      237         \n",
      "      0     0       10.0909    69                    Cuts: 23      259         \n",
      "      0     0       10.0909    48                 ZeroHalf: 4      266         \n",
      "      0     0       10.0909    49                    Cuts: 27      282         \n",
      "*     0+    0                           62.0000       10.0909            83.72%\n",
      "*     0+    0                           24.0000       10.0909            57.95%\n",
      "Detecting symmetries...\n",
      "      0     2       10.0909    49       24.0000       13.0000      282   45.83%\n",
      "Elapsed time = 0.11 sec. (22.25 ticks, tree = 0.02 MB, solutions = 2)\n",
      "*   214   102      integral     0       21.0000       13.0000     1062   38.10%\n",
      "\n",
      "Performing restart 1\n",
      "\n",
      "Repeating presolve.\n",
      "Tried aggregator 1 time.\n",
      "MIP Presolve eliminated 28 rows and 0 columns.\n",
      "MIP Presolve added 56 rows and 14 columns.\n",
      "Reduced MIP has 240 rows, 186 columns, and 574 nonzeros.\n",
      "Reduced MIP has 80 binaries, 78 generals, 0 SOSs, and 132 indicators.\n",
      "Presolve time = 0.00 sec. (0.27 ticks)\n",
      "Tried aggregator 1 time.\n",
      "MIP Presolve modified 42 coefficients.\n",
      "Reduced MIP has 240 rows, 186 columns, and 574 nonzeros.\n",
      "Reduced MIP has 80 binaries, 78 generals, 0 SOSs, and 132 indicators.\n",
      "Presolve time = 0.00 sec. (0.45 ticks)\n",
      "Represolve time = 0.01 sec. (1.86 ticks)\n",
      "   5908     0       14.0000   122       21.0000     Cuts: 160    34223   23.81%\n",
      "   5908     0       14.0000   140       21.0000     Cuts: 160    34292   23.81%\n",
      "   5908     0       14.0000    79       21.0000      Cuts: 64    34337   23.81%\n",
      "   5908     0       14.0000    95       21.0000     Cuts: 116    34391   23.81%\n",
      "   5908     0       14.0000   108       21.0000     Cuts: 160    34455   23.81%\n",
      "   5908     0       14.0000    97       21.0000      Cuts: 39    34488   23.81%\n",
      "   5908     0       14.0000    95       21.0000     Cuts: 160    34537   23.81%\n",
      "   6343   176       20.0000     8       21.0000       16.0000    36777   23.81%\n",
      "\n",
      "Cover cuts applied:  7\n",
      "Implied bound cuts applied:  1\n",
      "Flow cuts applied:  4\n",
      "Mixed integer rounding cuts applied:  14\n",
      "Zero-half cuts applied:  3\n",
      "Lift and project cuts applied:  1\n",
      "Gomory fractional cuts applied:  45\n",
      "\n",
      "Root node processing (before b&c):\n",
      "  Real time             =    0.11 sec. (22.14 ticks)\n",
      "Parallel b&c, 8 threads:\n",
      "  Real time             =    1.07 sec. (393.61 ticks)\n",
      "  Sync time (average)   =    0.17 sec.\n",
      "  Wait time (average)   =    0.00 sec.\n",
      "                          ------------\n",
      "Total (root+branch&cut) =    1.18 sec. (415.75 ticks)\n"
     ]
    }
   ],
   "source": [
    "mdl2.parameters.timelimit = 100\n",
    "assert mdl2.solve(log_output=True), \"!!! Solve of the model fails\""
   ]
  },
  {
   "cell_type": "code",
   "execution_count": 46,
   "metadata": {
    "tags": []
   },
   "outputs": [
    {
     "name": "stdout",
     "output_type": "stream",
     "text": [
      "* model linear_placement0 solved with objective = 21.000\n",
      "* solution: [7.9999999999999964, 2.0000000000000004, 3.0000000000000004, 8.999999999999996, 10.999999999999996, 0, 4.0, 5.9999999999999964, 6.9999999999999964, 5.0, 1.0, 9.999999999999996]\n"
     ]
    }
   ],
   "source": [
    "mdl2.report()\n",
    "d1 = mdl2.objective_value\n",
    "#mdl.print_solution()\n",
    "\n",
    "def make_solution_vector(x_vars):\n",
    "    sol = [0]* N\n",
    "    for i in box_ids:\n",
    "        sol[i-1] = x[i].solution_value\n",
    "    return sol\n",
    "\n",
    "sol1 = make_solution_vector(x)\n",
    "print(\"* solution: {0!s}\".format(sol1))          "
   ]
  },
  {
   "cell_type": "code",
   "execution_count": 47,
   "metadata": {
    "tags": []
   },
   "outputs": [],
   "source": [
    "try:\n",
    "    import matplotlib.pyplot as plt\n",
    "    from pylab import rcParams\n",
    "    %matplotlib inline\n",
    "    rcParams['figure.figsize'] = 12, 6\n",
    "    \n",
    "    def display_solution(sol):\n",
    "        xs = []\n",
    "        ys = []\n",
    "        for j in net_ids:\n",
    "            b1 = net[j][0]\n",
    "            b2 = net[j][1]\n",
    "            box_x1 = sol[b1-1]\n",
    "            box_x2 = sol[b2-1]\n",
    "            box_y = j*1.0\n",
    "            plt.plot([box_x1, box_x2], [box_y, box_y])\n",
    "        for i in box_ids:\n",
    "            plt.text(sol[i-1]*1.0, M/2.0, str(i), bbox=dict(facecolor='red', alpha=0.5))            \n",
    "\n",
    "except ImportError:\n",
    "    print(\"matplotlib not found, nothing will be displayed\")\n",
    "    plt = None\n",
    "    def display_solution(sol):   pass\n"
   ]
  },
  {
   "cell_type": "code",
   "execution_count": 48,
   "metadata": {
    "tags": []
   },
   "outputs": [
    {
     "data": {
      "image/png": "[encoded data removed]",
      "text/plain": [
       "<Figure size 864x432 with 1 Axes>"
      ]
     },
     "metadata": {
      "needs_background": "light"
     },
     "output_type": "display_data"
    }
   ],
   "source": [
    "display_solution(sol1)"
   ]
  },
  {
   "cell_type": "markdown",
   "metadata": {},
   "source": [
    "## 2b\n",
    "Same scaling of N but:\n",
    "1. Build Problem of size N hierarchically:\n",
    "    a. divide into two sets of boxes of size N/2 as above with 1..3 random connections\n",
    "    b. add N/4 random nets between the two subsets of boxes -- random positions\n",
    "    \n",
    "For your solution, do the 2 distributions follow the same time complexity trend?"
   ]
  },
  {
   "cell_type": "markdown",
   "metadata": {
    "tags": []
   },
   "source": [
    "### Prob 3: Linear Placement Version 1\n",
    "This is the same problem as Version 0 except now the boxes have variable sizes. \n",
    "\n",
    "Debug with the following:"
   ]
  },
  {
   "cell_type": "code",
   "execution_count": 49,
   "metadata": {
    "tags": []
   },
   "outputs": [],
   "source": [
    "N = 10 #number of boxes\n",
    "M = 14 #number of nets\n",
    "net = {1: (1,2), 2: (1,4), 3: (2,3), 4: (2,8), 5: (2,7), 6: (3,6), 7: (3,7), 8: (4,5), 9:(4,10), 10:(5,7),\n",
    "      11: (6,7), 12: (6,8), 13:(8,10), 14: (9,10)}\n",
    "box_size = {1: 1, 2: 3, 3: 2, 4: 1, 5: 2, 6: 1, 7:3, 8:1, 9:2, 10: 4}"
   ]
  },
  {
   "cell_type": "code",
   "execution_count": 51,
   "metadata": {},
   "outputs": [],
   "source": [
    "p3 = Model(name = \"linear placement version 1\", ignore_names=True, checker='off')\n",
    "\n",
    "#box[i][j] = 1 if box i is in position j\n",
    "b = p3.binary_var_matrix(range(0, N), range(0,N), name='b')\n",
    "\n",
    "#one position per box\n",
    "p3.add_constraints(p3.sum(b[i,j] for j in range(0,N)) == 1 for i in range(0,N))\n",
    "#one box per position\n",
    "p3.add_constraints(p3.sum(b[i,j] for i in range(0,N)) == 1 for j in range(0,N))\n",
    "\n",
    "#box i is at position position[i]\n",
    "positions = p3.integer_var_list(range(0,N), name='p')\n",
    "p3.add_constraints((positions[i] == p3.dot((b[i,j] for j in range(0,N)), range(0,N))) for i in range(0,N))\n",
    "\n",
    "net_start = p3.integer_var_list(range(0,M), name='ns')\n",
    "net_end = p3.integer_var_list(range(0,M), name='ne')\n",
    "for i in range(0,M):\n",
    "    p3.add_if_then(positions[net[i+1][0] - 1] - positions[net[i+1][1] - 1] >= 0, net_start[i] == positions[net[i+1][1] - 1])\n",
    "    p3.add_if_then(positions[net[i+1][0] - 1] - positions[net[i+1][1] - 1] >= 0, net_end[i] == positions[net[i+1][0] - 1])\n",
    "        \n",
    "    p3.add_if_then(positions[net[i+1][0] - 1] - positions[net[i+1][1] - 1] <= 0, net_start[i] == positions[net[i+1][0] - 1])\n",
    "    p3.add_if_then(positions[net[i+1][0] - 1] - positions[net[i+1][1] - 1] <= 0, net_end[i] == positions[net[i+1][1] - 1])\n",
    "    \n",
    "#net_lengths[i][j] = 1 if box j is in between the start and end of net i\n",
    "net_lengths = p3.binary_var_matrix(range(0,M), range(0,N), name='nl')\n",
    "for i in range(0,M):\n",
    "    for j in range(0,N):\n",
    "        s = (net_start[i] + 1 <= positions[j])\n",
    "        e = (net_end[i] - 1 >= positions[j])\n",
    "        p3.add_if_then(s + e == 2, net_lengths[i,j] == 1)\n",
    "    \n",
    "net_lengths_sum = p3.integer_var_list(range(0,M), name='nls')\n",
    "p3.add_constraints((net_lengths_sum[i] == p3.dot((net_lengths[i,j] for j in range(0,N)), (box_size[k+1] for k in range(0,N)))) for i in range(0,M))\n",
    "        \n",
    "p3.minimize(p3.sum(net_lengths_sum[i]  for i in range(0,M)))\n",
    "\n",
    "p3s = p3.solve(clean_before_solve = True)\n",
    "p3.print_solution()"
   ]
  },
  {
   "cell_type": "code",
   "execution_count": 52,
   "metadata": {
    "tags": []
   },
   "outputs": [
    {
     "name": "stdout",
     "output_type": "stream",
     "text": [
      "objective: 23\n"
     ]
    }
   ],
   "source": [
    "print(\"objective:\", int(p3s.objective_value))\n",
    "\n",
    "#for i in range(0,M):\n",
    "#    for j in range (0,N):\n",
    "#        print(int(p3s.get_value(net_lengths[i,j])) * box_size[j + 1], end = \" \")\n",
    "#    print(\"\")\n"
   ]
  },
  {
   "cell_type": "code",
   "execution_count": 53,
   "metadata": {},
   "outputs": [
    {
     "data": {
      "image/png": "[encoded data removed]",
      "text/plain": [
       "<Figure size 864x576 with 1 Axes>"
      ]
     },
     "metadata": {
      "needs_background": "light"
     },
     "output_type": "display_data"
    }
   ],
   "source": [
    "\n",
    "import matplotlib.pyplot as plt\n",
    "from pylab import rcParams\n",
    "%matplotlib inline\n",
    "rcParams['figure.figsize'] = 12, 8\n",
    "\n",
    "for i in range(0,N):\n",
    "    plt.text(p3s.get_value(positions[i]),0, str(i +1), bbox=dict(facecolor='red', alpha=0.5))\n",
    "\n",
    "for i in range(0,M):\n",
    "    plt.plot([p3s.get_value(positions[net[i+1][0]-1]), p3s.get_value(positions[net[i+1][1]-1])], [i+1, i+1])\n",
    "\n",
    "ax=plt.gca()\n",
    "ax.axes.xaxis.set_visible(False)\n",
    "plt.xlabel('Boxes') \n",
    "plt.ylabel('Nets') \n",
    "plt.show()"
   ]
  }
 ],
 "metadata": {
  "kernelspec": {
   "display_name": "Python 3 (ipykernel)",
   "language": "python",
   "name": "python3"
  },
  "language_info": {
   "codemirror_mode": {
    "name": "ipython",
    "version": 3
   },
   "file_extension": ".py",
   "mimetype": "text/x-python",
   "name": "python",
   "nbconvert_exporter": "python",
   "pygments_lexer": "ipython3",
   "version": "3.8.13"
  },
  "toc-showmarkdowntxt": false
 },
 "nbformat": 4,
 "nbformat_minor": 4
}
